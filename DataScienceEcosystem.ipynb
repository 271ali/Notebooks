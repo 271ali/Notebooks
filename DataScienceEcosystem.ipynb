{
 "cells": [
  {
   "cell_type": "markdown",
   "id": "7c1bc5b4",
   "metadata": {},
   "source": [
    "# Инструменты и экосистема Data Science"
   ]
  },
  {
   "cell_type": "markdown",
   "id": "4e8ced83",
   "metadata": {},
   "source": [
    "В этом блокноте представлены инструменты и экосистема Data Science."
   ]
  },
  {
   "cell_type": "markdown",
   "id": "ee724f41",
   "metadata": {},
   "source": [
    "**Цели:**\n",
    "- Перечислить популярные языки Data Science\n",
    "- Перечислить часто используемые библиотеки Data Science\n",
    "- Перечислить инструменты Data Science с открытым исходным кодом\n",
    "- Привести примеры арифметических выражений в Python"
   ]
  },
  {
   "cell_type": "markdown",
   "id": "86980b92",
   "metadata": {},
   "source": [
    "Некоторые из популярных языков, которые используют специалисты по Data Science:\n",
    "1. Python\n",
    "2. R\n",
    "3. Julia\n",
    "4. Scala"
   ]
  },
  {
   "cell_type": "markdown",
   "id": "b7f98eb4",
   "metadata": {},
   "source": [
    "Некоторые из часто используемых библиотек, которые используют специалисты по Data Science, включают:\n",
    "1. pandas\n",
    "2. numpy\n",
    "3. matplotlib\n",
    "4. scikit-learn\n",
    "5. seaborn\n",
    "6. plotly\n",
    "7. tensorflow"
   ]
  },
  {
   "cell_type": "markdown",
   "id": "47ef38b7",
   "metadata": {},
   "source": [
    "| Инструменты Data Science |\n",
    "|-----------|\n",
    "| Github |\n",
    "| Jupyter Notebook |\n",
    "| PostgreSQL |\n"
   ]
  },
  {
   "cell_type": "markdown",
   "id": "ec72a006",
   "metadata": {},
   "source": [
    "### Ниже приведены несколько примеров оценки арифметических выражений в Python.\n",
    "\n",
    "Примеры:\n",
    "- 2 + 3 = 5\n",
    "- 3 * 4 = 12\n",
    "- 9 / 3 = 3\n"
   ]
  },
  {
   "cell_type": "code",
   "execution_count": 1,
   "id": "236d73a6",
   "metadata": {},
   "outputs": [
    {
     "data": {
      "text/plain": [
       "17"
      ]
     },
     "execution_count": 1,
     "metadata": {},
     "output_type": "execute_result"
    }
   ],
   "source": [
    "#Это простое арифметическое выражение для умножения, а затем сложения целых чисел\n",
    "(3*4)+5"
   ]
  },
  {
   "cell_type": "code",
   "execution_count": 2,
   "id": "1d9b78c4",
   "metadata": {},
   "outputs": [
    {
     "data": {
      "text/plain": [
       "3.3333333333333335"
      ]
     },
     "execution_count": 2,
     "metadata": {},
     "output_type": "execute_result"
    }
   ],
   "source": [
    "#Это преобразует 200 минут в часы, деля на 60\n",
    "200/60"
   ]
  },
  {
   "cell_type": "markdown",
   "id": "37cb3ba1",
   "metadata": {},
   "source": [
    "## Автор\n",
    "Гаврилович Алиса"
   ]
  }
 ],
 "metadata": {
  "kernelspec": {
   "display_name": "Python 3 (ipykernel)",
   "language": "python",
   "name": "python3"
  },
  "language_info": {
   "codemirror_mode": {
    "name": "ipython",
    "version": 3
   },
   "file_extension": ".py",
   "mimetype": "text/x-python",
   "name": "python",
   "nbconvert_exporter": "python",
   "pygments_lexer": "ipython3",
   "version": "3.7.0"
  }
 },
 "nbformat": 4,
 "nbformat_minor": 5
}
